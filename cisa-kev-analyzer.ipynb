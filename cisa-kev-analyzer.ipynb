{
 "cells": [
  {
   "cell_type": "code",
   "execution_count": 4,
   "id": "17e5e00e-0e47-412a-a9a0-d977fae555ee",
   "metadata": {},
   "outputs": [],
   "source": [
    "import json\n",
    "import pandas as pd\n",
    "from pprint import pprint"
   ]
  },
  {
   "cell_type": "code",
   "execution_count": 16,
   "id": "f5549e62-ec2e-4785-bf75-8280f5b57b50",
   "metadata": {},
   "outputs": [
    {
     "name": "stdout",
     "output_type": "stream",
     "text": [
      "dict_keys(['title', 'catalogVersion', 'dateReleased', 'count', 'vulnerabilities'])\n",
      "date released: 2023-07-27T09:46:48.3349Z\n",
      "count: 980\n",
      "catalog version: data[\"catalogVersion\"]\n"
     ]
    }
   ],
   "source": [
    "with open(\"cisa-kev.json\") as json_file:\n",
    "    data = json.load(json_file)\n",
    "\n",
    "print(data.keys())\n",
    "print(f'date released: {data[\"dateReleased\"]}')\n",
    "print(f'count: {data[\"count\"]}')\n",
    "print(f'catalog version: data[\"catalogVersion\"]')\n",
    "      "
   ]
  },
  {
   "cell_type": "code",
   "execution_count": 15,
   "id": "3d4f4e81-634c-4179-8369-af8a4712d723",
   "metadata": {},
   "outputs": [
    {
     "name": "stdout",
     "output_type": "stream",
     "text": [
      "              cveID vendorProject                  product  \\\n",
      "0    CVE-2021-27104     Accellion                      FTA   \n",
      "1    CVE-2021-27102     Accellion                      FTA   \n",
      "2    CVE-2021-27101     Accellion                      FTA   \n",
      "3    CVE-2021-27103     Accellion                      FTA   \n",
      "4    CVE-2021-21017         Adobe       Acrobat and Reader   \n",
      "..              ...           ...                      ...   \n",
      "975  CVE-2023-29298         Adobe               ColdFusion   \n",
      "976  CVE-2023-38205         Adobe               ColdFusion   \n",
      "977  CVE-2023-35078        Ivanti  Endpoint Manager Mobile   \n",
      "978  CVE-2023-38606         Apple        Multiple Products   \n",
      "979  CVE-2023-37580        Zimbra      Collaboration (ZCS)   \n",
      "\n",
      "                                     vulnerabilityName   dateAdded  \\\n",
      "0     Accellion FTA OS Command Injection Vulnerability  2021-11-03   \n",
      "1     Accellion FTA OS Command Injection Vulnerability  2021-11-03   \n",
      "2            Accellion FTA SQL Injection Vulnerability  2021-11-03   \n",
      "3    Accellion FTA Server-Side Request Forgery (SSR...  2021-11-03   \n",
      "4    Adobe Acrobat and Reader Heap-based Buffer Ove...  2021-11-03   \n",
      "..                                                 ...         ...   \n",
      "975  Adobe ColdFusion Improper Access Control Vulne...  2023-07-20   \n",
      "976  Adobe ColdFusion Improper Access Control Vulne...  2023-07-20   \n",
      "977  Ivanti Endpoint Manager Mobile Authentication ...  2023-07-25   \n",
      "978  Apple Multiple Products Kernel Unspecified Vul...  2023-07-26   \n",
      "979  Zimbra Collaboration (ZCS) Cross-Site Scriptin...  2023-07-27   \n",
      "\n",
      "                                      shortDescription  \\\n",
      "0    Accellion FTA contains an OS command injection...   \n",
      "1    Accellion FTA contains an OS command injection...   \n",
      "2    Accellion FTA contains a SQL injection vulnera...   \n",
      "3    Accellion FTA contains a server-side request f...   \n",
      "4    Acrobat Acrobat and Reader contain a heap-base...   \n",
      "..                                                 ...   \n",
      "975  Adobe ColdFusion contains an improper access c...   \n",
      "976  Adobe ColdFusion contains an improper access c...   \n",
      "977  Ivanti Endpoint Manager Mobile (EPMM, previous...   \n",
      "978  Apple iOS, iPadOS, macOS, tvOS, and watchOS co...   \n",
      "979  Zimbra Collaboration Suite (ZCS) contains a cr...   \n",
      "\n",
      "                                        requiredAction     dueDate  \\\n",
      "0               Apply updates per vendor instructions.  2021-11-17   \n",
      "1               Apply updates per vendor instructions.  2021-11-17   \n",
      "2               Apply updates per vendor instructions.  2021-11-17   \n",
      "3               Apply updates per vendor instructions.  2021-11-17   \n",
      "4               Apply updates per vendor instructions.  2021-11-17   \n",
      "..                                                 ...         ...   \n",
      "975  Apply mitigations per vendor instructions or d...  2023-08-10   \n",
      "976  Apply mitigations per vendor instructions or d...  2023-08-10   \n",
      "977  Apply mitigations per vendor instructions or d...  2023-08-15   \n",
      "978  Apply mitigations per vendor instructions or d...  2023-08-16   \n",
      "979  Apply mitigations per vendor instructions or d...  2023-08-17   \n",
      "\n",
      "                                                 notes  \n",
      "0                                                       \n",
      "1                                                       \n",
      "2                                                       \n",
      "3                                                       \n",
      "4                                                       \n",
      "..                                                 ...  \n",
      "975  https://helpx.adobe.com/security/products/cold...  \n",
      "976  https://helpx.adobe.com/security/products/cold...  \n",
      "977  https://forums.ivanti.com/s/article/CVE-2023-3...  \n",
      "978  https://support.apple.com/en-us/HT213841, http...  \n",
      "979       https://wiki.zimbra.com/wiki/Security_Center  \n",
      "\n",
      "[980 rows x 9 columns]\n"
     ]
    }
   ],
   "source": [
    "vulns = pd.DataFrame.from_dict(data[\"vulnerabilities\"])\n",
    "\n",
    "pprint(vulns)"
   ]
  },
  {
   "cell_type": "markdown",
   "id": "14305e79-35cb-4bff-91ed-98c33475d318",
   "metadata": {},
   "source": [
    "# Search for a specific Product"
   ]
  },
  {
   "cell_type": "code",
   "execution_count": 20,
   "id": "f9428045-b495-4549-8092-87b5a2fe797e",
   "metadata": {},
   "outputs": [],
   "source": [
    "search_input = \"MOVEit\""
   ]
  },
  {
   "cell_type": "code",
   "execution_count": 21,
   "id": "189ca04f-a290-4cac-a2f5-0c23758eadcc",
   "metadata": {},
   "outputs": [],
   "source": [
    "filtered_df = vulns[(vulns[\"cveID\"] == search_input) | (vulns[\"vendorProject\"] == search_input) | (vulns[\"product\"].str.contains(search_input))]"
   ]
  },
  {
   "cell_type": "code",
   "execution_count": 22,
   "id": "686e4023-63f6-4560-9911-40511cc3e83d",
   "metadata": {},
   "outputs": [
    {
     "name": "stdout",
     "output_type": "stream",
     "text": [
      "              cveID vendorProject          product  \\\n",
      "941  CVE-2023-34362      Progress  MOVEit Transfer   \n",
      "\n",
      "                                     vulnerabilityName   dateAdded  \\\n",
      "941  Progress MOVEit Transfer SQL Injection Vulnera...  2023-06-02   \n",
      "\n",
      "                                      shortDescription  \\\n",
      "941  Progress MOVEit Transfer contains a SQL inject...   \n",
      "\n",
      "                             requiredAction     dueDate  \\\n",
      "941  Apply updates per vendor instructions.  2023-06-23   \n",
      "\n",
      "                                                 notes  \n",
      "941  This CVE has a CISA AA located here: https://w...  \n"
     ]
    }
   ],
   "source": [
    "print(filtered_df)"
   ]
  },
  {
   "cell_type": "code",
   "execution_count": 24,
   "id": "3f3bd016-ef38-4cc6-9182-27aa10132788",
   "metadata": {},
   "outputs": [
    {
     "name": "stdout",
     "output_type": "stream",
     "text": [
      "              cveID vendorProject          product  \\\n",
      "941  CVE-2023-34362      Progress  MOVEit Transfer   \n",
      "\n",
      "                             requiredAction  \n",
      "941  Apply updates per vendor instructions.  \n"
     ]
    }
   ],
   "source": [
    "df_original_case = vulns.copy()\n",
    "\n",
    "# Get the original case of the filtered records\n",
    "filtered_df_original_case = df_original_case.loc[filtered_df.index]\n",
    "\n",
    "# Set the display option to show all rows\n",
    "pd.options.display.max_rows = None\n",
    "\n",
    "# Print the filtered records with the original case\n",
    "print(filtered_df_original_case[[\"cveID\", \"vendorProject\", \"product\", \"requiredAction\"]])"
   ]
  },
  {
   "cell_type": "markdown",
   "id": "df26f75e-753b-43b4-beb5-c96f480225b4",
   "metadata": {},
   "source": [
    "# Quick stats"
   ]
  },
  {
   "cell_type": "code",
   "execution_count": 48,
   "id": "24417b85-5c13-4311-b3bb-b7537e81624a",
   "metadata": {},
   "outputs": [
    {
     "data": {
      "text/plain": [
       "year\n",
       "2022    557\n",
       "2021    311\n",
       "2023    112\n",
       "Name: count, dtype: int64"
      ]
     },
     "execution_count": 48,
     "metadata": {},
     "output_type": "execute_result"
    }
   ],
   "source": [
    "# Convert the dateAdded column to a datetimelike value\n",
    "vulns[\"dateAdded\"] = pd.to_datetime(vulns[\"dateAdded\"])\n",
    "\n",
    "# Extract the year from the date column\n",
    "vulns[\"year\"] = vulns[\"dateAdded\"].dt.year\n",
    "\n",
    "# Group the DataFrame by year\n",
    "year_stats = vulns[\"year\"].value_counts()\n",
    "year_sta\n",
    "# Print \n",
    "year_stats"
   ]
  },
  {
   "cell_type": "code",
   "execution_count": null,
   "id": "8c849aa7-f013-4a7b-858e-51c3b2ebfdfe",
   "metadata": {},
   "outputs": [],
   "source": []
  }
 ],
 "metadata": {
  "kernelspec": {
   "display_name": "Python 3 (ipykernel)",
   "language": "python",
   "name": "python3"
  },
  "language_info": {
   "codemirror_mode": {
    "name": "ipython",
    "version": 3
   },
   "file_extension": ".py",
   "mimetype": "text/x-python",
   "name": "python",
   "nbconvert_exporter": "python",
   "pygments_lexer": "ipython3",
   "version": "3.10.8"
  }
 },
 "nbformat": 4,
 "nbformat_minor": 5
}
